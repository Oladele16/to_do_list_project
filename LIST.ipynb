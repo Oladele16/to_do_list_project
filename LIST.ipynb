{
 "cells": [
  {
   "cell_type": "code",
   "execution_count": 1,
   "id": "35c7f144",
   "metadata": {},
   "outputs": [
    {
     "name": "stdout",
     "output_type": "stream",
     "text": [
      "5\n"
     ]
    }
   ],
   "source": [
    "nested =[[1,2],[3,4,5]]\n",
    "print(nested[1][2])"
   ]
  },
  {
   "cell_type": "code",
   "execution_count": 21,
   "id": "4be12234",
   "metadata": {},
   "outputs": [
    {
     "name": "stdout",
     "output_type": "stream",
     "text": [
      "4\n",
      "[1, 2, 3, 4, 5, 6, 7, 8, 9]\n"
     ]
    }
   ],
   "source": [
    "matrix = [[1,2,3],\n",
    "          [4,5,6],\n",
    "          [7,8,9]\n",
    "          ]\n",
    "print(matrix[1][0])\n",
    "print(matrix[0]+ matrix[1] + matrix[2])"
   ]
  },
  {
   "cell_type": "code",
   "execution_count": 57,
   "id": "7dce1bb5",
   "metadata": {},
   "outputs": [
    {
     "name": "stdout",
     "output_type": "stream",
     "text": [
      "[1, 2, 3, 4, 5]\n"
     ]
    }
   ],
   "source": [
    "#unique lists\n",
    "def fun(lst):\n",
    "    unique_list = []\n",
    "    for i in lst:\n",
    "        if i not in unique_list:\n",
    "            unique_list.append(i)\n",
    "    return unique_list\n",
    "func = [1,2,2,3,4,4,5]\n",
    "print(fun(func))\n"
   ]
  },
  {
   "cell_type": "code",
   "execution_count": 18,
   "id": "c1489ae1",
   "metadata": {},
   "outputs": [
    {
     "name": "stdout",
     "output_type": "stream",
     "text": [
      "['spaghetti', 'pine', 'yam', 'noodles']\n"
     ]
    }
   ],
   "source": [
    "food = [\"rice\",\"beans\",\"pine\",\"yam\"]\n",
    "food[1] = \"spaghetti\"\n",
    "food.insert(4,\"noodles\")\n",
    "food.remove(\"rice\")\n",
    "print(food)"
   ]
  },
  {
   "cell_type": "code",
   "execution_count": 48,
   "id": "03ccdd99",
   "metadata": {},
   "outputs": [
    {
     "name": "stdout",
     "output_type": "stream",
     "text": [
      "[1, 2, 3, 4, 5, 6, 7, 8]\n"
     ]
    }
   ],
   "source": [
    "#nested = [[1,2],[3,4],[5,[6,7]]]\n",
    "#print(nested[0]+ nested[1] + nested[2] + nested[2][1])\n",
    "\n",
    "#nested = [[1,2],[3,4],[5,[6,7]]]\n",
    "#flat = [item for sublist in nested for item in sublist]\n",
    "#print(flat)\n",
    "\n",
    "def flatten(nested):\n",
    "    flat = []\n",
    "    for item in nested:\n",
    "        if isinstance(item,list):\n",
    "            flat.extend(flatten(item))\n",
    "        else:\n",
    "            flat.append(item)\n",
    "    return flat    \n",
    "nest = [[1,2],[3,4],[5,[6,7],8]]\n",
    "print(flatten(nest))"
   ]
  },
  {
   "cell_type": "code",
   "execution_count": 78,
   "id": "002b4fba",
   "metadata": {},
   "outputs": [
    {
     "name": "stdout",
     "output_type": "stream",
     "text": [
      "8\n"
     ]
    }
   ],
   "source": [
    "#def max(list):\n",
    "    #maximum = list[0]\n",
    "    #minimum = list[7]\n",
    "    #for i in list:\n",
    "     #   if i > minimum:\n",
    "      #      minimum <= i\n",
    "    #return minimum\n",
    "#mum = [1,2,3,4,5,6,7,8,9] \n",
    "#print(max(mum))       \n",
    "\n",
    "\n",
    "def max(lst):\n",
    "    num = lst[7]\n",
    "    largest = second=float('-inf')\n",
    "\n",
    "    for i in lst:\n",
    "        if i > largest:\n",
    "            second = largest\n",
    "            largest = num\n",
    "        elif num > second and num != largest:\n",
    "            second = num\n",
    "    return num    \n",
    "lis = [1,2,3,4,5,6,7,8,9]\n",
    "print(max(lis))"
   ]
  },
  {
   "cell_type": "code",
   "execution_count": 109,
   "id": "fe0c5123",
   "metadata": {},
   "outputs": [
    {
     "name": "stdout",
     "output_type": "stream",
     "text": [
      "['sleep all through', 'wake up early', 'Read book']\n",
      "['sleep all through', 'wake up early', 'Read book', 'Finish project']\n",
      "['sleep all through', 'wake up early', 'Finish project']\n",
      "sleep all through - Done\n",
      "wake up early - Done\n",
      "Finish project - Done\n"
     ]
    }
   ],
   "source": [
    "# To Do List\n",
    "tasks = []\n",
    "\n",
    "def add_list(task):\n",
    "    tasks.append(task)\n",
    "    return tasks\n",
    "\n",
    "def remove_list(task):\n",
    "    if task in tasks:\n",
    "        tasks.remove(\"Read book\")\n",
    "        return tasks\n",
    "\n",
    "def mark_tasks():\n",
    "    for task in tasks:\n",
    "        print(f\"{task} - Done\")\n",
    "\n",
    "tasks = [\"sleep all through\",\"wake up early\"]\n",
    "print(add_list(\"Read book\"))\n",
    "print(add_list(\"Finish project\"))\n",
    "print(remove_list(\"Read book\"))\n",
    "mark_tasks()\n"
   ]
  },
  {
   "cell_type": "code",
   "execution_count": 7,
   "id": "13bf13ba",
   "metadata": {},
   "outputs": [
    {
     "name": "stdout",
     "output_type": "stream",
     "text": [
      "64.0\n",
      "99\n",
      "32\n"
     ]
    }
   ],
   "source": [
    "#Student Grade Tracker\n",
    "Student_scores = []\n",
    "\n",
    "def Average_score(Student_scores):\n",
    "    add = sum(Student_scores)\n",
    "    average = add / len(Student_scores)\n",
    "    return average\n",
    "\n",
    "def Highest(Student_scores):\n",
    "    highest = float('-inf')   # start with the smallest possible number\n",
    "    for num in Student_scores:          # nums = your list\n",
    "        if num > highest:\n",
    "            highest = num\n",
    "    return highest\n",
    "\n",
    "def lowest(Student_scores):\n",
    "  lowest = float('inf')   # start with infinity\n",
    "  for num in Student_scores:        # nums = your list\n",
    "    if num < lowest:\n",
    "        lowest = num\n",
    "  return lowest\n",
    "  \n",
    "Student_scores = [78,45,66,32,99]\n",
    "print(Average_score(Student_scores))\n",
    "print(Highest(Student_scores))\n",
    "print(lowest(Student_scores))\n",
    "\n"
   ]
  },
  {
   "cell_type": "code",
   "execution_count": 114,
   "id": "643d6c19",
   "metadata": {},
   "outputs": [
    {
     "name": "stdout",
     "output_type": "stream",
     "text": [
      "[12, 13, 15, 50]\n",
      "[12, 15, 50]\n",
      "77\n"
     ]
    }
   ],
   "source": [
    "#Shopping Cart(E-Commerce)\n",
    "cart = []\n",
    "\n",
    "def add_cart(item):\n",
    "    cart.append(item)\n",
    "    return cart\n",
    "\n",
    "def remove_cart(item):\n",
    "    if item in cart:\n",
    "        cart.remove(item)\n",
    "    return cart\n",
    "    \n",
    "def calc_cart():\n",
    "    total = sum(cart)\n",
    "    return total \n",
    "\n",
    "cart = [12,13,15]\n",
    "\n",
    "print(add_cart(50))\n",
    "print(remove_cart(13))\n",
    "print(calc_cart())   "
   ]
  },
  {
   "cell_type": "code",
   "execution_count": 116,
   "id": "edf7ead6",
   "metadata": {},
   "outputs": [
    {
     "name": "stdout",
     "output_type": "stream",
     "text": [
      "['Adewale', 'Sheriff', 'Tunde', 'Qudus']\n",
      "Adewale is in contact\n",
      "['Adewale', 'Sheriff', 'Tunde', 'Qudus']\n"
     ]
    }
   ],
   "source": [
    "contacts = []\n",
    "\n",
    "def add_contacts(name):\n",
    "    contacts.append(name)\n",
    "    return contacts\n",
    "def search_contacts(name):\n",
    "    if name in contacts:\n",
    "        print(f\"{name} is in contact\")\n",
    "    return contacts\n",
    "\n",
    "contacts = [\"Adewale\",\"Sheriff\",\"Tunde\"]\n",
    "print(add_contacts(\"Qudus\"))\n",
    "print(search_contacts(\"Adewale\"))\n"
   ]
  },
  {
   "cell_type": "code",
   "execution_count": 2,
   "id": "f9b19596",
   "metadata": {},
   "outputs": [
    {
     "name": "stdout",
     "output_type": "stream",
     "text": [
      "[100000, 3000, 5999, 200]\n",
      "Transaction successsful\n",
      "[100000, 3000, 5999, 200]\n",
      "109199\n"
     ]
    }
   ],
   "source": [
    "Bank = []\n",
    "def add_bank(amount):\n",
    "    Bank.append(amount)\n",
    "    return Bank\n",
    "\n",
    "def dispense(amount):\n",
    "    if amount in Bank:\n",
    "        Bank.remove(amount)\n",
    "    else:\n",
    "        print(f\"Transaction successsful\")\n",
    "    return Bank\n",
    "\n",
    "def remain():\n",
    "    total = sum(Bank)\n",
    "    return total\n",
    "\n",
    "Bank = [100000, 3000, 5999]\n",
    "print(add_bank(200))\n",
    "print(dispense(5000)) \n",
    "print(remain())\n",
    "   \n",
    "\n",
    "    "
   ]
  },
  {
   "cell_type": "code",
   "execution_count": 1,
   "id": "3cce9d38",
   "metadata": {},
   "outputs": [
    {
     "name": "stdout",
     "output_type": "stream",
     "text": [
      "('Current Amount: ', 150000)\n",
      "[100000, 50000, 6000]\n",
      "('Current Amount: ', 156000)\n",
      "Insufficient Credit balance.\n",
      "[100000, 50000, 6000]\n"
     ]
    }
   ],
   "source": [
    "bank = []\n",
    "def deposit(amount,balance =0):\n",
    "    bank.append(amount)\n",
    "    return bank\n",
    "\n",
    "def withdraw(amount):\n",
    "    draw = int(input(\"Enter amount to be withdrawn: \"))\n",
    "    if amount <= draw:\n",
    "        bank.remove(amount)\n",
    "    else:\n",
    "        print(f\"Insufficient Credit balance.\")    \n",
    "    return bank\n",
    "\n",
    "def show_balance():\n",
    "    total = sum(bank)\n",
    "    return f\"Current Amount: \",total\n",
    "\n",
    "bank = [100000,50000] \n",
    "print(show_balance())   \n",
    "print(deposit(6000))\n",
    "print(show_balance())\n",
    "print(withdraw(15000))\n",
    "\n",
    "\n"
   ]
  },
  {
   "cell_type": "code",
   "execution_count": null,
   "id": "cbf299ba",
   "metadata": {},
   "outputs": [
    {
     "name": "stdout",
     "output_type": "stream",
     "text": [
      "67.0\n",
      "89\n",
      "45\n",
      "[('Sheriff', 89), ('Adewale', 78), ('Tunde', 56), ('Qudus', 45)]\n",
      "{'Adewale': 78, 'Tunde': 56, 'Sheriff': 89, 'Qudus': 45, 'Taiwo': 67}\n",
      "[('Sheriff', 89), ('Adewale', 78), ('Taiwo', 67), ('Tunde', 56), ('Qudus', 45)]\n"
     ]
    }
   ],
   "source": [
    "#Advanced Student Grade Tracker\n",
    "Student_names_scores = []\n",
    " \n",
    "def average(student_score):\n",
    "    scores = student_score.values()\n",
    "    total = sum(scores)\n",
    "    average = total / len(student_score)\n",
    "    return average\n",
    "\n",
    "def highest(student_score):\n",
    "    highest = float('-inf')\n",
    "    for i in student_score.values():\n",
    "        if i > highest:\n",
    "            highest = i\n",
    "    return highest\n",
    "\n",
    "def lowest(student_score):\n",
    "    lowest = float('inf')\n",
    "    for i in student_score.values():\n",
    "        if i < lowest:\n",
    "            lowest = i\n",
    "    return lowest\n",
    "\n",
    "def rank(student_score):\n",
    "    rank = sorted(student_score.items(), key=lambda x:x[1], reverse = True)\n",
    "    return rank\n",
    "\n",
    "def add_student(student_score, name, score):\n",
    "    student_score[name] = score\n",
    "    return student_score\n",
    "\n",
    "Student_names_scores = {\"Adewale\":78,\"Tunde\":56,\"Sheriff\":89,\"Qudus\":45}\n",
    "print(average(Student_names_scores))\n",
    "print(highest(Student_names_scores))\n",
    "print(lowest(Student_names_scores))\n",
    "print(rank(Student_names_scores))\n",
    "print(add_student(Student_names_scores,\"Taiwo\",67))\n",
    "print(rank(Student_names_scores))\n",
    "\n",
    "\n"
   ]
  },
  {
   "cell_type": "code",
   "execution_count": 2,
   "id": "ea62d4d9",
   "metadata": {},
   "outputs": [
    {
     "name": "stdout",
     "output_type": "stream",
     "text": [
      "{'Rice': 15000, 'Spag': 1244, 'Yam': 5000, 'Indomie': 20000}\n",
      "The total price of the items:  41244\n",
      "32995.2\n"
     ]
    }
   ],
   "source": [
    "cart = []\n",
    "\n",
    "def add_cart(cart_item,item, price):\n",
    "    cart_item[item] = price\n",
    "    return cart_item\n",
    "\n",
    "def remove_cart(cart_item, item):\n",
    "    if cart_item in cart:\n",
    "        cart.remove(item)\n",
    "    return cart_item\n",
    "\n",
    "def calc_cart(cart_item):\n",
    "    price = cart_item.values()\n",
    "    total = sum(price)\n",
    "    return total\n",
    "\n",
    "def discount(cart_item, percent):\n",
    "    price = cart_item.values()\n",
    "    total = sum(price)\n",
    "    discount = total * (percent / 100)\n",
    "    final_price = total - discount\n",
    "    return final_price\n",
    "\n",
    "cart = {\"Rice\": 15000, \"Spag\": 1244, \"Yam\": 5000}\n",
    "print(add_cart(cart,\"Indomie\", 20000))\n",
    "#print(remove_cart(cart, \"Spag\"))\n",
    "print(f\"The total price of the items: \",calc_cart(cart))\n",
    "print(discount(cart, 20))\n",
    "\n",
    "\n"
   ]
  },
  {
   "cell_type": "code",
   "execution_count": null,
   "id": "013c56fe",
   "metadata": {},
   "outputs": [
    {
     "name": "stdout",
     "output_type": "stream",
     "text": [
      "[{'Rice': 'done', 'beans': 'done', 'spag': 'done', 'indomie': 'done'}, {'task': 'Rice', 'status': 'Pending'}]\n"
     ]
    },
    {
     "ename": "KeyError",
     "evalue": "'task'",
     "output_type": "error",
     "traceback": [
      "\u001b[31m---------------------------------------------------------------------------\u001b[39m",
      "\u001b[31mKeyError\u001b[39m                                  Traceback (most recent call last)",
      "\u001b[36mCell\u001b[39m\u001b[36m \u001b[39m\u001b[32mIn[14]\u001b[39m\u001b[32m, line 32\u001b[39m\n\u001b[32m     30\u001b[39m to_do = [{\u001b[33m\"\u001b[39m\u001b[33mRice\u001b[39m\u001b[33m\"\u001b[39m:\u001b[33m\"\u001b[39m\u001b[33mdone\u001b[39m\u001b[33m\"\u001b[39m,\u001b[33m\"\u001b[39m\u001b[33mbeans\u001b[39m\u001b[33m\"\u001b[39m:\u001b[33m\"\u001b[39m\u001b[33mdone\u001b[39m\u001b[33m\"\u001b[39m,\u001b[33m\"\u001b[39m\u001b[33mspag\u001b[39m\u001b[33m\"\u001b[39m:\u001b[33m\"\u001b[39m\u001b[33mdone\u001b[39m\u001b[33m\"\u001b[39m,\u001b[33m\"\u001b[39m\u001b[33mindomie\u001b[39m\u001b[33m\"\u001b[39m:\u001b[33m\"\u001b[39m\u001b[33mdone\u001b[39m\u001b[33m\"\u001b[39m}] \n\u001b[32m     31\u001b[39m \u001b[38;5;28mprint\u001b[39m(add_task(\u001b[33m\"\u001b[39m\u001b[33mRice\u001b[39m\u001b[33m\"\u001b[39m))\n\u001b[32m---> \u001b[39m\u001b[32m32\u001b[39m \u001b[38;5;28mprint\u001b[39m(\u001b[43mmark_task\u001b[49m\u001b[43m(\u001b[49m\u001b[33;43m\"\u001b[39;49m\u001b[33;43mRice\u001b[39;49m\u001b[33;43m\"\u001b[39;49m\u001b[43m)\u001b[49m)\n",
      "\u001b[36mCell\u001b[39m\u001b[36m \u001b[39m\u001b[32mIn[14]\u001b[39m\u001b[32m, line 10\u001b[39m, in \u001b[36mmark_task\u001b[39m\u001b[34m(task_item)\u001b[39m\n\u001b[32m      8\u001b[39m \u001b[38;5;28;01mdef\u001b[39;00m\u001b[38;5;250m \u001b[39m\u001b[34mmark_task\u001b[39m(task_item):\n\u001b[32m      9\u001b[39m     \u001b[38;5;28;01mfor\u001b[39;00m task \u001b[38;5;129;01min\u001b[39;00m to_do:\n\u001b[32m---> \u001b[39m\u001b[32m10\u001b[39m         \u001b[38;5;28;01mif\u001b[39;00m \u001b[43mtask\u001b[49m\u001b[43m[\u001b[49m\u001b[33;43m\"\u001b[39;49m\u001b[33;43mtask\u001b[39;49m\u001b[33;43m\"\u001b[39;49m\u001b[43m]\u001b[49m == task_item:\n\u001b[32m     11\u001b[39m             \u001b[38;5;28mprint\u001b[39m(\u001b[33mf\u001b[39m\u001b[33m\"\u001b[39m\u001b[38;5;132;01m{\u001b[39;00mtask[\u001b[33m'\u001b[39m\u001b[33mtask\u001b[39m\u001b[33m'\u001b[39m]\u001b[38;5;132;01m}\u001b[39;00m\u001b[33m(status: \u001b[39m\u001b[38;5;132;01m{\u001b[39;00mtask[\u001b[33m'\u001b[39m\u001b[33mstatus\u001b[39m\u001b[33m'\u001b[39m]\u001b[38;5;132;01m}\u001b[39;00m\u001b[33m)\u001b[39m\u001b[33m\"\u001b[39m)\n\u001b[32m     12\u001b[39m     \u001b[38;5;28;01mreturn\u001b[39;00m mark_task\n",
      "\u001b[31mKeyError\u001b[39m: 'task'"
     ]
    }
   ],
   "source": [
    "#To_do list manager\n",
    "to_do = []\n",
    "\n",
    "def add_task(task_item):\n",
    "    to_do.append({\"task\": task_item, \"status\": \"Pending\"})\n",
    "    return to_do\n",
    "\n",
    "def mark_task(task_item):\n",
    "    for task in to_do:\n",
    "        if task[\"task\"] == task_item:\n",
    "            task[\"status\"] = \"Done\"\n",
    "            print(f\"{task['task']}(status: {task['status']})\")\n",
    "    return mark_task\n",
    "\n",
    "def pending_task():\n",
    "    pending = [task for task in to_do if task[\"status\"]== \"Pending\"]\n",
    "    return pending\n",
    "\n",
    "def del_task(task_item,task):\n",
    "    for task in to_do:\n",
    "        if task_item in to_do:\n",
    "            to_do.remove(task)\n",
    "            break\n",
    "    return to_do\n",
    "\n",
    "def index_task(task_item,task):\n",
    "    for index, task in enumerate(to_do):\n",
    "        print(f\"{index}: {task['task']} (status: {task['status']})\")\n",
    "    return index_task\n",
    "\n",
    "to_do = [{\"Rice\":\"done\",\"beans\":\"done\",\"spag\":\"done\",\"indomie\":\"done\"}] \n",
    "print(add_task(\"Rice\"))\n",
    "print(mark_task(\"Rice\"))\n"
   ]
  },
  {
   "cell_type": "markdown",
   "id": "7c6221fc",
   "metadata": {},
   "source": []
  }
 ],
 "metadata": {
  "kernelspec": {
   "display_name": "Python 3",
   "language": "python",
   "name": "python3"
  },
  "language_info": {
   "codemirror_mode": {
    "name": "ipython",
    "version": 3
   },
   "file_extension": ".py",
   "mimetype": "text/x-python",
   "name": "python",
   "nbconvert_exporter": "python",
   "pygments_lexer": "ipython3",
   "version": "3.13.1"
  }
 },
 "nbformat": 4,
 "nbformat_minor": 5
}
